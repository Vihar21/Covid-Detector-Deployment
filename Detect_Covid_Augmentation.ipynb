{
 "cells": [
  {
   "cell_type": "markdown",
   "id": "ce8dc7db-1512-4ef4-abf1-39bf469ab747",
   "metadata": {},
   "source": [
    "# Import Libraries"
   ]
  },
  {
   "cell_type": "code",
   "execution_count": 4,
   "id": "b63e1301-051d-412a-9381-91e667ad1b21",
   "metadata": {
    "scrolled": true
   },
   "outputs": [],
   "source": [
    "import os\n",
    "import numpy as np\n",
    "import seaborn as sns\n",
    "import tensorflow as tf\n",
    "from tensorflow.keras.preprocessing.image import ImageDataGenerator\n",
    "from tensorflow.keras.utils import to_categorical\n",
    "from sklearn.model_selection import train_test_split, KFold\n",
    "from sklearn.metrics import confusion_matrix, roc_auc_score\n",
    "import cv2\n",
    "import matplotlib.pyplot as plt\n",
    "from tensorflow.keras.applications import VGG16\n",
    "from tensorflow.keras.models import Model\n",
    "from tensorflow.keras.layers import Dense, Dropout, GlobalAveragePooling2D, BatchNormalization\n",
    "from tensorflow.keras.callbacks import EarlyStopping, ModelCheckpoint, ReduceLROnPlateau\n",
    "from tensorflow.keras import mixed_precision\n",
    "from lime import lime_image\n",
    "from skimage.segmentation import mark_boundaries\n",
    "\n",
    "# Enable mixed precision\n",
    "mixed_precision.set_global_policy('mixed_float16')\n",
    "\n",
    "# Clear session\n",
    "tf.keras.backend.clear_session()\n",
    "\n",
    "# Set parameters\n",
    "IMG_SIZE = (128, 128)  # Increased image size\n",
    "BATCH_SIZE = 16  # Increased batch size\n",
    "base_dir = 'E:/val'\n",
    "categories = ['covid-19', 'non-covid', 'normal']\n"
   ]
  },
  {
   "cell_type": "markdown",
   "id": "080eff46-2f27-4e56-8983-cef9eb06f3d3",
   "metadata": {},
   "source": [
    "# Data Loading and Preprocessing\n"
   ]
  },
  {
   "cell_type": "code",
   "execution_count": 8,
   "id": "99599b64-defe-462e-9e01-f2684f743141",
   "metadata": {},
   "outputs": [],
   "source": [
    "# Function to load and preprocess data\n",
    "def load_and_preprocess_data(base_dir, categories, img_size):\n",
    "    data = []\n",
    "    labels = []\n",
    "    for category in categories:\n",
    "        path = os.path.join(base_dir, category, 'images')\n",
    "        class_num = categories.index(category)\n",
    "        for img in os.listdir(path):\n",
    "            try:\n",
    "                img_path = os.path.join(path, img)\n",
    "                img_array = cv2.imread(img_path)\n",
    "                img_array = cv2.resize(img_array, img_size)\n",
    "                img_array = cv2.cvtColor(img_array, cv2.COLOR_BGR2GRAY)\n",
    "                img_array = cv2.GaussianBlur(img_array, (5, 5), 0)\n",
    "                img_array = cv2.equalizeHist(img_array)\n",
    "                img_array = img_array / 255.0\n",
    "                img_array = np.expand_dims(img_array, axis=-1)\n",
    "                img_array = np.repeat(img_array, 3, axis=-1)\n",
    "                data.append(img_array)\n",
    "                labels.append(class_num)\n",
    "            except Exception as e:\n",
    "                print(f\"Error loading image {img}: {e}\")\n",
    "    return np.array(data), np.array(labels)\n",
    "\n",
    "# Load and preprocess data\n",
    "data, labels = load_and_preprocess_data(base_dir, categories, IMG_SIZE)\n",
    "labels = to_categorical(labels, num_classes=len(categories))\n",
    "\n",
    "# Check for NaN values in the data\n",
    "if np.isnan(data).any() or np.isnan(labels).any():\n",
    "    print(\"NaN values found in the data or labels. Please clean the data.\")\n",
    "    data = np.nan_to_num(data)\n",
    "    labels = np.nan_to_num(labels)\n"
   ]
  },
  {
   "cell_type": "markdown",
   "id": "97707b6b-7a49-4f20-8234-09fdadca83c5",
   "metadata": {},
   "source": [
    "# Data Augmentation\n"
   ]
  },
  {
   "cell_type": "code",
   "execution_count": 9,
   "id": "9c0e5a20-05a2-49c0-ac70-d5f6dda56eba",
   "metadata": {},
   "outputs": [],
   "source": [
    "# Data augmentation\n",
    "train_datagen = ImageDataGenerator(\n",
    "    rotation_range=40,\n",
    "    width_shift_range=0.2,\n",
    "    height_shift_range=0.2,\n",
    "    shear_range=0.2,\n",
    "    zoom_range=0.2,\n",
    "    horizontal_flip=True,\n",
    "    fill_mode='nearest'\n",
    ")\n",
    "val_datagen = ImageDataGenerator()\n",
    "test_datagen = ImageDataGenerator()\n",
    "\n",
    "# Function to plot training history\n",
    "def plot_history(history, title):\n",
    "    plt.plot(history.history['accuracy'], label='Train Accuracy')\n",
    "    plt.plot(history.history['val_accuracy'], label='Validation Accuracy')\n",
    "    plt.xlabel('Epoch')\n",
    "    plt.ylabel('Accuracy')\n",
    "    plt.title(title)\n",
    "    plt.legend(loc='lower right')\n",
    "    plt.show()\n",
    "\n",
    "# Function to plot confusion matrix\n",
    "def plot_confusion_matrix(cm, class_names):\n",
    "    plt.figure(figsize=(8, 6))\n",
    "    sns.heatmap(cm, annot=True, fmt=\"d\", cmap=\"YlGnBu\", xticklabels=class_names, yticklabels=class_names)\n",
    "    plt.xlabel('Predicted Label')\n",
    "    plt.ylabel('True Label')\n",
    "    plt.title('Confusion Matrix')\n",
    "    plt.show()\n"
   ]
  },
  {
   "cell_type": "code",
   "execution_count": null,
   "id": "524e3822-5833-41ca-ada7-0c23010d99c6",
   "metadata": {},
   "outputs": [],
   "source": []
  }
 ],
 "metadata": {
  "kernelspec": {
   "display_name": "Python 3 (ipykernel)",
   "language": "python",
   "name": "python3"
  },
  "language_info": {
   "codemirror_mode": {
    "name": "ipython",
    "version": 3
   },
   "file_extension": ".py",
   "mimetype": "text/x-python",
   "name": "python",
   "nbconvert_exporter": "python",
   "pygments_lexer": "ipython3",
   "version": "3.8.19"
  }
 },
 "nbformat": 4,
 "nbformat_minor": 5
}
