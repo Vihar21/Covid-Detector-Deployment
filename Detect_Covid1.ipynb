{
 "cells": [
  {
   "cell_type": "markdown",
   "id": "ce8dc7db-1512-4ef4-abf1-39bf469ab747",
   "metadata": {},
   "source": [
    "# Import Libraries"
   ]
  },
  {
   "cell_type": "code",
   "execution_count": 6,
   "id": "b63e1301-051d-412a-9381-91e667ad1b21",
   "metadata": {},
   "outputs": [],
   "source": [
    "import os\n",
    "import numpy as np\n",
    "import seaborn as sns\n",
    "import tensorflow as tf\n",
    "from tensorflow.keras.utils import to_categorical\n",
    "from sklearn.model_selection import train_test_split, KFold\n",
    "from sklearn.metrics import confusion_matrix, roc_auc_score\n",
    "import cv2\n",
    "# Clear session\n",
    "tf.keras.backend.clear_session()\n",
    "\n",
    "# Set parameters\n",
    "IMG_SIZE = (128, 128)  # Increased image size\n",
    "BATCH_SIZE = 16  # Increased batch size\n",
    "base_dir = 'E:/val'\n",
    "categories = ['covid-19', 'non-covid', 'normal']\n"
   ]
  },
  {
   "cell_type": "markdown",
   "id": "080eff46-2f27-4e56-8983-cef9eb06f3d3",
   "metadata": {},
   "source": [
    "# Data Loading and Preprocessing\n"
   ]
  },
  {
   "cell_type": "code",
   "execution_count": 8,
   "id": "99599b64-defe-462e-9e01-f2684f743141",
   "metadata": {},
   "outputs": [],
   "source": [
    "# Function to load and preprocess data\n",
    "def load_data(base_dir, categories, img_size):\n",
    "    data = []\n",
    "    labels = []\n",
    "    for category in categories:\n",
    "        path = os.path.join(base_dir, category, 'images')\n",
    "        class_num = categories.index(category)\n",
    "        for img in os.listdir(path):\n",
    "            try:\n",
    "                img_path = os.path.join(path, img)\n",
    "                img_array = cv2.imread(img_path)\n",
    "                data.append(img_array)\n",
    "                labels.append(class_num)\n",
    "            except Exception as e:\n",
    "                print(f\"Error loading image {img}: {e}\")\n",
    "    return np.array(data), np.array(labels)\n",
    "\n",
    "# Load and preprocess data\n",
    "data, labels = load_data(base_dir, categories, IMG_SIZE)\n",
    "labels = to_categorical(labels, num_classes=len(categories))\n",
    "\n",
    "# Check for NaN values in the data\n",
    "if np.isnan(data).any() or np.isnan(labels).any():\n",
    "    print(\"NaN values found in the data or labels. Please clean the data.\")\n",
    "    data = np.nan_to_num(data)\n",
    "    labels = np.nan_to_num(labels)\n"
   ]
  }
 ],
 "metadata": {
  "kernelspec": {
   "display_name": "Python 3 (ipykernel)",
   "language": "python",
   "name": "python3"
  },
  "language_info": {
   "codemirror_mode": {
    "name": "ipython",
    "version": 3
   },
   "file_extension": ".py",
   "mimetype": "text/x-python",
   "name": "python",
   "nbconvert_exporter": "python",
   "pygments_lexer": "ipython3",
   "version": "3.8.19"
  }
 },
 "nbformat": 4,
 "nbformat_minor": 5
}
